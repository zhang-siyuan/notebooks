{
 "cells": [
  {
   "cell_type": "markdown",
   "metadata": {},
   "source": [
    "# HyperSpy EDS demo\n",
    "Programming Courses, Electron Microscopy Spring School 2024\n",
    "\n",
    "2024/03/06, Berlin\n",
    "\n",
    "Dr. Siyuan Zhang, Max-Planck-Institut für Eisenforschung, siyuan.zhang@mpie.de\n",
    "\n",
    "## 0. Load hyperspy module\n",
    "For this demo, we are working with the latest version (2.0).\n",
    "\n",
    "More on HyperSpy: https://github.com/hyperspy"
   ]
  },
  {
   "cell_type": "code",
   "execution_count": 1,
   "metadata": {},
   "outputs": [
    {
     "name": "stdout",
     "output_type": "stream",
     "text": [
      "2.0\n"
     ]
    }
   ],
   "source": [
    "%matplotlib qt\n",
    "import hyperspy.api as hs\n",
    "import numpy as np\n",
    "import matplotlib.pyplot as plt\n",
    "print(hs.__version__)"
   ]
  },
  {
   "cell_type": "markdown",
   "metadata": {},
   "source": [
    "## 1. Load & plot EDS spectrum imaging data\n",
    "HyperSpy provides many readers for electron microscopy data. Try to load your data later."
   ]
  },
  {
   "cell_type": "code",
   "execution_count": 2,
   "metadata": {},
   "outputs": [
    {
     "name": "stderr",
     "output_type": "stream",
     "text": [
      "C:\\Users\\siyuan.zhang\\Desktop\\WPy64-31150\\python-3.11.5.amd64\\Lib\\site-packages\\paramiko\\transport.py:219: CryptographyDeprecationWarning: Blowfish has been deprecated\n",
      "  \"class\": algorithms.Blowfish,\n"
     ]
    },
    {
     "data": {
      "text/plain": [
       "<EDSTEMSpectrum, title: EDX, dimensions: (64, 64|4096)>"
      ]
     },
     "execution_count": 2,
     "metadata": {},
     "output_type": "execute_result"
    }
   ],
   "source": [
    "s = hs.load(\"EDS-IrO2+FTO.bcf\", downsample=1, select_type='spectrum_image')\n",
    "s"
   ]
  },
  {
   "cell_type": "markdown",
   "metadata": {},
   "source": [
    "There is a lot of information and long list of metadata to explore in the dataset:"
   ]
  },
  {
   "cell_type": "code",
   "execution_count": null,
   "metadata": {},
   "outputs": [],
   "source": [
    "s.plot()"
   ]
  },
  {
   "cell_type": "code",
   "execution_count": null,
   "metadata": {},
   "outputs": [],
   "source": [
    "s.metadata"
   ]
  },
  {
   "cell_type": "code",
   "execution_count": null,
   "metadata": {},
   "outputs": [],
   "source": [
    "s.axes_manager"
   ]
  },
  {
   "cell_type": "markdown",
   "metadata": {},
   "source": [
    "Uncomment to export as raw data format:"
   ]
  },
  {
   "cell_type": "code",
   "execution_count": null,
   "metadata": {},
   "outputs": [],
   "source": [
    "#s.save(\"EDS-IrO2+FTO.rpl\")"
   ]
  },
  {
   "cell_type": "markdown",
   "metadata": {},
   "source": [
    "## 2. Quantification (pixel-based)\n",
    "We start by quantifying the EDS spectrum at individual pixels and learn why would not it work well.\n",
    "### 2.1 Add or set elements for quantification"
   ]
  },
  {
   "cell_type": "code",
   "execution_count": null,
   "metadata": {},
   "outputs": [],
   "source": [
    "s.sum().plot(True)"
   ]
  },
  {
   "cell_type": "code",
   "execution_count": null,
   "metadata": {},
   "outputs": [],
   "source": [
    "s.add_elements(['O'])\n",
    "s.add_lines(['O_Ka','Ir_Ma'])"
   ]
  },
  {
   "cell_type": "code",
   "execution_count": null,
   "metadata": {},
   "outputs": [],
   "source": [
    "s.sum().plot(True)"
   ]
  },
  {
   "cell_type": "code",
   "execution_count": 3,
   "metadata": {},
   "outputs": [],
   "source": [
    "s.set_elements(['Ir','Sn','F','O'])\n",
    "s.set_lines(['Ir_La','Sn_La','F_Ka','O_Ka'])"
   ]
  },
  {
   "cell_type": "markdown",
   "metadata": {},
   "source": [
    "Note the elements are stored in alphabetical order (regardless of the input order):"
   ]
  },
  {
   "cell_type": "code",
   "execution_count": null,
   "metadata": {},
   "outputs": [],
   "source": [
    "s.metadata['Sample']"
   ]
  },
  {
   "cell_type": "markdown",
   "metadata": {},
   "source": [
    "### 2.2 Set background and integration windows for signal integration\n",
    "Start with an estimatation of the background and integration windows:"
   ]
  },
  {
   "cell_type": "code",
   "execution_count": 4,
   "metadata": {},
   "outputs": [],
   "source": [
    "bw = s.estimate_background_windows(line_width=[4, 4])\n",
    "iw = s.estimate_integration_windows(windows_width=3)"
   ]
  },
  {
   "cell_type": "code",
   "execution_count": null,
   "metadata": {},
   "outputs": [],
   "source": [
    "s.sum().plot(True, background_windows=bw, integration_windows=iw)"
   ]
  },
  {
   "cell_type": "code",
   "execution_count": null,
   "metadata": {},
   "outputs": [],
   "source": [
    "bw"
   ]
  },
  {
   "cell_type": "markdown",
   "metadata": {},
   "source": [
    "Manual adjustment of background windows to model Bremsstrahlung: Each side needs to be at least 2 pixel wide!"
   ]
  },
  {
   "cell_type": "code",
   "execution_count": 5,
   "metadata": {},
   "outputs": [
    {
     "data": {
      "text/plain": [
       "(['F', 'Ir', 'O', 'Sn'],\n",
       " array([[0.615     , 0.63      , 0.845     , 0.855     ],\n",
       "        [8.38280489, 8.54120391, 9.80839609, 9.96679511],\n",
       "        [0.31      , 0.32      , 0.615     , 0.63      ],\n",
       "        [2.7       , 2.9       , 4.8       , 5.        ]]))"
      ]
     },
     "execution_count": 5,
     "metadata": {},
     "output_type": "execute_result"
    }
   ],
   "source": [
    "bw[0] = [0.615, 0.63, 0.845, 0.855]\n",
    "bw[2,0:2] = [0.31, 0.32]\n",
    "bw[2,2:4] = bw[0,0:2]\n",
    "bw[3] = [2.7, 2.9, 4.8, 5.0]\n",
    "s.metadata['Sample']['elements'], bw"
   ]
  },
  {
   "cell_type": "code",
   "execution_count": null,
   "metadata": {},
   "outputs": [],
   "source": [
    "s.sum().plot(True, background_windows=bw, integration_windows=iw)"
   ]
  },
  {
   "cell_type": "markdown",
   "metadata": {},
   "source": [
    "Manual adjustment of integration windows"
   ]
  },
  {
   "cell_type": "code",
   "execution_count": null,
   "metadata": {},
   "outputs": [],
   "source": [
    "iw"
   ]
  },
  {
   "cell_type": "code",
   "execution_count": 6,
   "metadata": {},
   "outputs": [
    {
     "data": {
      "text/plain": [
       "(['F', 'Ir', 'O', 'Sn'],\n",
       " [[0.64, 0.76],\n",
       "  [9, 9.412398532192435],\n",
       "  [0.45, 0.6132027462766589],\n",
       "  [3.2883808736048166, 3.57]])"
      ]
     },
     "execution_count": 6,
     "metadata": {},
     "output_type": "execute_result"
    }
   ],
   "source": [
    "iw[0] = [0.64, 0.76]\n",
    "iw[1][0] = 9\n",
    "iw[2][0] = 0.45\n",
    "iw[3][1] = 3.57\n",
    "s.metadata['Sample']['elements'], iw"
   ]
  },
  {
   "cell_type": "code",
   "execution_count": null,
   "metadata": {},
   "outputs": [],
   "source": [
    "s.sum().plot(True, background_windows=bw, integration_windows=iw)"
   ]
  },
  {
   "cell_type": "markdown",
   "metadata": {},
   "source": [
    "Integration of signals within the selected windows:"
   ]
  },
  {
   "cell_type": "code",
   "execution_count": 7,
   "metadata": {},
   "outputs": [
    {
     "data": {
      "text/plain": [
       "[<BaseSignal, title: X-ray line intensity of EDX: F_Ka at 0.68 keV, dimensions: (64, 64|)>,\n",
       " <BaseSignal, title: X-ray line intensity of EDX: Ir_La at 9.17 keV, dimensions: (64, 64|)>,\n",
       " <BaseSignal, title: X-ray line intensity of EDX: O_Ka at 0.52 keV, dimensions: (64, 64|)>,\n",
       " <BaseSignal, title: X-ray line intensity of EDX: Sn_La at 3.44 keV, dimensions: (64, 64|)>]"
      ]
     },
     "execution_count": 7,
     "metadata": {},
     "output_type": "execute_result"
    }
   ],
   "source": [
    "s_I = s.get_lines_intensity(background_windows=bw, integration_windows=iw)\n",
    "s_I"
   ]
  },
  {
   "cell_type": "markdown",
   "metadata": {},
   "source": [
    "The Ir_La count map:"
   ]
  },
  {
   "cell_type": "code",
   "execution_count": null,
   "metadata": {},
   "outputs": [],
   "source": [
    "s_I[1].plot()"
   ]
  },
  {
   "cell_type": "markdown",
   "metadata": {},
   "source": [
    "The F_Ka count map shows many negative pixels due to background subtraction:"
   ]
  },
  {
   "cell_type": "code",
   "execution_count": null,
   "metadata": {},
   "outputs": [],
   "source": [
    "s_I[0].plot()"
   ]
  },
  {
   "cell_type": "markdown",
   "metadata": {},
   "source": [
    "The spatial distribution of SnO2 and IrO2 is apparent, the distribution of F is unclear. "
   ]
  },
  {
   "cell_type": "code",
   "execution_count": 8,
   "metadata": {},
   "outputs": [
    {
     "data": {
      "text/plain": [
       "[<Axes: title={'center': 'F_Ka at 0.68 keV'}>,\n",
       " <Axes: title={'center': 'Ir_La at 9.17 keV'}>,\n",
       " <Axes: title={'center': 'O_Ka at 0.52 keV'}>,\n",
       " <Axes: title={'center': 'Sn_La at 3.44 keV'}>]"
      ]
     },
     "execution_count": 8,
     "metadata": {},
     "output_type": "execute_result"
    }
   ],
   "source": [
    "hs.plot.plot_images(s_I, cmap='hot', per_row=2, axes_decor=None, scalebar='all')"
   ]
  },
  {
   "cell_type": "markdown",
   "metadata": {},
   "source": [
    "### 2.3 Cliff-Lorimer quantification\n",
    "Cliff-Lorimer k_factors were read out from listed values for SuperX EDS detector, 300 keV beam energy."
   ]
  },
  {
   "cell_type": "code",
   "execution_count": 9,
   "metadata": {},
   "outputs": [
    {
     "data": {
      "text/plain": [
       "(['F', 'Ir', 'O', 'Sn'], array([1.128, 4.82 , 1.16 , 3.358]))"
      ]
     },
     "execution_count": 9,
     "metadata": {},
     "output_type": "execute_result"
    }
   ],
   "source": [
    "k_factors = np.array([1.128, 4.82, 1.16, 3.358])\n",
    "s.metadata['Sample']['elements'], k_factors"
   ]
  },
  {
   "cell_type": "code",
   "execution_count": 10,
   "metadata": {},
   "outputs": [
    {
     "name": "stdout",
     "output_type": "stream",
     "text": [
      "[                                        ] | 0% Completed | 967.40 us"
     ]
    },
    {
     "name": "stderr",
     "output_type": "stream",
     "text": [
      "C:\\Users\\siyuan.zhang\\Desktop\\WPy64-31150\\python-3.11.5.amd64\\Lib\\site-packages\\exspy\\misc\\eds\\utils.py:516: RuntimeWarning: divide by zero encountered in scalar divide\n",
      "  (intensities[ref_index] * absorption_correction[ref_index])\n"
     ]
    },
    {
     "name": "stdout",
     "output_type": "stream",
     "text": [
      "[########################################] | 100% Completed | 104.71 ms\n"
     ]
    }
   ],
   "source": [
    "s_quant = s.quantification(s_I, 'CL', factors=k_factors)"
   ]
  },
  {
   "cell_type": "markdown",
   "metadata": {},
   "source": [
    "Due to the negative counts of F and O, the quantification does not make sense:"
   ]
  },
  {
   "cell_type": "code",
   "execution_count": 11,
   "metadata": {},
   "outputs": [
    {
     "data": {
      "text/plain": [
       "[<Axes: title={'center': 'F'}>,\n",
       " <Axes: title={'center': 'Ir'}>,\n",
       " <Axes: title={'center': 'O'}>,\n",
       " <Axes: title={'center': 'Sn'}>]"
      ]
     },
     "execution_count": 11,
     "metadata": {},
     "output_type": "execute_result"
    }
   ],
   "source": [
    "hs.plot.plot_images(s_quant, cmap='hot', per_row=2, axes_decor=None, scalebar='all')"
   ]
  },
  {
   "cell_type": "markdown",
   "metadata": {},
   "source": [
    "Hence, the quantification is only performed on Ir and Sn:"
   ]
  },
  {
   "cell_type": "code",
   "execution_count": null,
   "metadata": {},
   "outputs": [],
   "source": [
    "s_quant_metal = s.quantification([s_I[1],s_I[3]], 'CL', factors=k_factors[[1,3]])"
   ]
  },
  {
   "cell_type": "code",
   "execution_count": null,
   "metadata": {},
   "outputs": [],
   "source": [
    "hs.plot.plot_images(s_quant_metal, cmap='hot', per_row=2, axes_decor=None, scalebar='all')"
   ]
  },
  {
   "cell_type": "markdown",
   "metadata": {},
   "source": [
    "## 3 Multivariate statistical analysis\n",
    "For STEM-EDS spectrum imaging, the dwell time at indivudal pixel is often too short to provide sufficient statistics. Nevertheless, if many pixels share similar EDS (e.g. they originate from areas of the same phase/composition), the statistics would be improved by integration. Multivariate statistical analysis can be applied to exploit such redundancy in the dataset, which can separate phases (compositions) with statistics above the noise background."
   ]
  },
  {
   "cell_type": "code",
   "execution_count": 12,
   "metadata": {},
   "outputs": [],
   "source": [
    "s.change_dtype('float')"
   ]
  },
  {
   "cell_type": "markdown",
   "metadata": {},
   "source": [
    "### 3.1 Principal component analysis (PCA)\n",
    "Singular value decomposition (SVD) is a common algorithm to perform PCA, listing the principal components of the dataset in decreasing importance (statistical correlation)"
   ]
  },
  {
   "cell_type": "code",
   "execution_count": null,
   "metadata": {},
   "outputs": [],
   "source": [
    "s.decomposition(algorithm = 'SVD')"
   ]
  },
  {
   "cell_type": "markdown",
   "metadata": {},
   "source": [
    "The explained variance ratio (scree) plot indicates the number of principal components (above the noise level):"
   ]
  },
  {
   "cell_type": "code",
   "execution_count": null,
   "metadata": {},
   "outputs": [],
   "source": [
    "s.plot_explained_variance_ratio()"
   ]
  },
  {
   "cell_type": "markdown",
   "metadata": {},
   "source": [
    "The decomposition factors correspond to the components of the EDS spectrum:\n",
    "Here the 4th component (component_3 in red) appears like noise."
   ]
  },
  {
   "cell_type": "code",
   "execution_count": null,
   "metadata": {},
   "outputs": [],
   "source": [
    "s.plot_decomposition_factors(comp_ids=4)"
   ]
  },
  {
   "cell_type": "markdown",
   "metadata": {},
   "source": [
    "The decomposition loadings show the weighting of individual spectral components at each pixel. \n",
    "We further confirm that component_3 is dominated by variation of a single pixel (likely an X-ray spike there)."
   ]
  },
  {
   "cell_type": "code",
   "execution_count": null,
   "metadata": {},
   "outputs": [],
   "source": [
    "s.plot_decomposition_loadings(comp_ids=4, per_row=2)"
   ]
  },
  {
   "cell_type": "markdown",
   "metadata": {},
   "source": [
    "We observe that a lot of variance comes from the 0-peak in the EDS spectrum and cuts it off the analysis. We also cut off signals beyond 10 keV, as there are no longer peaks for quantification.\n",
    "\n",
    "The signal axis in Hpyerspy is called by .isig[a,b]. Use float numbers for a range of values, use integers for a range of index."
   ]
  },
  {
   "cell_type": "code",
   "execution_count": null,
   "metadata": {},
   "outputs": [],
   "source": [
    "s.isig[0.35:10.].plot()"
   ]
  },
  {
   "cell_type": "code",
   "execution_count": 13,
   "metadata": {},
   "outputs": [],
   "source": [
    "s.crop_signal(0.35,10.)"
   ]
  },
  {
   "cell_type": "code",
   "execution_count": null,
   "metadata": {},
   "outputs": [],
   "source": [
    "s.sum().plot(True)"
   ]
  },
  {
   "cell_type": "markdown",
   "metadata": {},
   "source": [
    "If necessary to boost the statistical significance of individual signals, we could bin the signals along x, y, or the energy axis:"
   ]
  },
  {
   "cell_type": "code",
   "execution_count": null,
   "metadata": {},
   "outputs": [],
   "source": [
    "#s.rebin(scale = (1,1,2))"
   ]
  },
  {
   "cell_type": "code",
   "execution_count": 14,
   "metadata": {},
   "outputs": [
    {
     "name": "stdout",
     "output_type": "stream",
     "text": [
      "Decomposition info:\n",
      "  normalize_poissonian_noise=True\n",
      "  algorithm=SVD\n",
      "  output_dimension=None\n",
      "  centre=None\n"
     ]
    }
   ],
   "source": [
    "s.decomposition(algorithm = 'SVD')"
   ]
  },
  {
   "cell_type": "code",
   "execution_count": 15,
   "metadata": {},
   "outputs": [
    {
     "data": {
      "text/plain": [
       "<Axes: title={'center': 'EDX\\nPCA Scree Plot'}, xlabel='Principal component index', ylabel='Proportion of variance'>"
      ]
     },
     "execution_count": 15,
     "metadata": {},
     "output_type": "execute_result"
    }
   ],
   "source": [
    "s.plot_explained_variance_ratio()"
   ]
  },
  {
   "cell_type": "markdown",
   "metadata": {},
   "source": [
    "Now we only observe 2 principal components, as confirmed by the noisy features of the third component (component_2)"
   ]
  },
  {
   "cell_type": "code",
   "execution_count": 16,
   "metadata": {},
   "outputs": [
    {
     "data": {
      "image/png": "[encoded data removed]",
      "text/plain": [
       "<Figure size 640x480 with 1 Axes>"
      ]
     },
     "execution_count": 16,
     "metadata": {},
     "output_type": "execute_result"
    }
   ],
   "source": [
    "s.plot_decomposition_factors(comp_ids=3)"
   ]
  },
  {
   "cell_type": "code",
   "execution_count": 17,
   "metadata": {},
   "outputs": [
    {
     "data": {
      "image/png": "[encoded data removed]",
      "text/plain": [
       "<Figure size 640x480 with 6 Axes>"
      ]
     },
     "execution_count": 17,
     "metadata": {},
     "output_type": "execute_result"
    }
   ],
   "source": [
    "s.plot_decomposition_loadings(comp_ids=3)"
   ]
  },
  {
   "cell_type": "markdown",
   "metadata": {},
   "source": [
    "### 3.2 Non-negative Matrix Factorization (NMF)\n",
    "PCA decomposition gives negative counts in spectral components and weighting, making component-based quantification (https://doi.org/10.1093/jmicro/dfx091) more challenging.\n",
    "\n",
    "NMF decomposition returns non-negative numbers in spectral components and weighting. A preceeding PCA is necessary to determine the number of principal components (nComp). Here we set nComp as 2, according to the PCA scree plot."
   ]
  },
  {
   "cell_type": "code",
   "execution_count": 18,
   "metadata": {},
   "outputs": [
    {
     "name": "stdout",
     "output_type": "stream",
     "text": [
      "Decomposition info:\n",
      "  normalize_poissonian_noise=True\n",
      "  algorithm=NMF\n",
      "  output_dimension=2\n",
      "  centre=None\n",
      "scikit-learn estimator:\n",
      "NMF(n_components=2)\n"
     ]
    },
    {
     "name": "stderr",
     "output_type": "stream",
     "text": [
      "C:\\Users\\siyuan.zhang\\Desktop\\WPy64-31150\\python-3.11.5.amd64\\Lib\\site-packages\\sklearn\\decomposition\\_nmf.py:1710: ConvergenceWarning: Maximum number of iterations 200 reached. Increase it to improve convergence.\n",
      "  warnings.warn(\n"
     ]
    }
   ],
   "source": [
    "nComp = 2\n",
    "s.decomposition(algorithm = 'NMF', output_dimension = nComp)"
   ]
  },
  {
   "cell_type": "markdown",
   "metadata": {},
   "source": [
    "Now we get non_negative spectral components (factors) and weightings (loadings). The spectral components appear much like physical EDS spectra."
   ]
  },
  {
   "cell_type": "code",
   "execution_count": 19,
   "metadata": {},
   "outputs": [
    {
     "data": {
      "image/png": "[encoded data removed]",
      "text/plain": [
       "<Figure size 640x480 with 1 Axes>"
      ]
     },
     "execution_count": 19,
     "metadata": {},
     "output_type": "execute_result"
    }
   ],
   "source": [
    "s.plot_decomposition_factors()"
   ]
  },
  {
   "cell_type": "code",
   "execution_count": 20,
   "metadata": {},
   "outputs": [
    {
     "data": {
      "image/png": "[encoded data removed]",
      "text/plain": [
       "<Figure size 640x480 with 4 Axes>"
      ]
     },
     "execution_count": 20,
     "metadata": {},
     "output_type": "execute_result"
    }
   ],
   "source": [
    "s.plot_decomposition_loadings()"
   ]
  },
  {
   "cell_type": "markdown",
   "metadata": {},
   "source": [
    "## 4 Component-based quantification\n",
    "The philosophy of component-based quantification is described in https://doi.org/10.1093/jmicro/dfx091\n",
    "\n",
    "Here we benefit the dimension reduction from multivariate statistical analysis, more specifically, NMF as shown above. Instead of quantifying thousands of spectra at each pixel (64*64 in this case), we only need to supervise the quantification of a handful of spectral components (2 in this case).\n",
    "### 4.1 Quantification of individual spectral component\n",
    "In hyperspy, use the navigation axis .inav to call the spectral components:"
   ]
  },
  {
   "cell_type": "code",
   "execution_count": 21,
   "metadata": {},
   "outputs": [],
   "source": [
    "s0 = s.get_decomposition_factors().inav[0]\n",
    "s1 = s.get_decomposition_factors().inav[1]"
   ]
  },
  {
   "cell_type": "markdown",
   "metadata": {},
   "source": [
    "Now we supervise the quantification of each spectral component. \n",
    "The first component s0 contains Ir_La and O_Ka, but not Sn_La or F_Ka."
   ]
  },
  {
   "cell_type": "code",
   "execution_count": null,
   "metadata": {},
   "outputs": [],
   "source": [
    "s0.plot(True)"
   ]
  },
  {
   "cell_type": "code",
   "execution_count": 22,
   "metadata": {},
   "outputs": [
    {
     "data": {
      "text/html": [
       "\n",
       "    <ul style=\"margin: 0px; list-style-position: outside;\">\n",
       "    <li style='margin-left:1em; padding-left: 0.5em'>elements = ['Ir', 'O']</li></ul>\n",
       "    \n",
       "    <ul style=\"margin: 0px; list-style-position: outside;\">\n",
       "    <li style='margin-left:1em; padding-left: 0.5em'>xray_lines = ['Ir_La', 'O_Ka']</li></ul>\n",
       "    "
      ],
      "text/plain": [
       "├── elements = ['Ir', 'O']\n",
       "└── xray_lines = ['Ir_La', 'O_Ka']"
      ]
     },
     "execution_count": 22,
     "metadata": {},
     "output_type": "execute_result"
    }
   ],
   "source": [
    "s0.set_elements(['Ir','O'])\n",
    "s0.set_lines(['Ir_La','O_Ka'])\n",
    "s0.metadata['Sample']"
   ]
  },
  {
   "cell_type": "code",
   "execution_count": 23,
   "metadata": {},
   "outputs": [],
   "source": [
    "bw0 = s0.estimate_background_windows(line_width=[4, 4])\n",
    "iw0 = s0.estimate_integration_windows(windows_width=3)"
   ]
  },
  {
   "cell_type": "code",
   "execution_count": null,
   "metadata": {
    "scrolled": true
   },
   "outputs": [],
   "source": [
    "s0.plot(True, background_windows=bw0, integration_windows=iw0)"
   ]
  },
  {
   "cell_type": "code",
   "execution_count": null,
   "metadata": {},
   "outputs": [],
   "source": [
    "s0.metadata['Sample']['elements'], bw0, iw0"
   ]
  },
  {
   "cell_type": "code",
   "execution_count": 24,
   "metadata": {},
   "outputs": [
    {
     "data": {
      "text/plain": [
       "(['Ir', 'O'],\n",
       " array([[8.38280489, 8.54120391, 9.80839609, 9.96679511],\n",
       "        [0.35      , 0.4       , 0.6       , 0.7       ]]))"
      ]
     },
     "execution_count": 24,
     "metadata": {},
     "output_type": "execute_result"
    }
   ],
   "source": [
    "bw0[1,:] = [0.35, 0.4, 0.6, 0.7]\n",
    "s0.metadata['Sample']['elements'], bw0"
   ]
  },
  {
   "cell_type": "code",
   "execution_count": 25,
   "metadata": {},
   "outputs": [
    {
     "data": {
      "text/plain": [
       "(['Ir', 'O'], [[9, 9.412398532192435], [0.45, 0.6]])"
      ]
     },
     "execution_count": 25,
     "metadata": {},
     "output_type": "execute_result"
    }
   ],
   "source": [
    "iw0[0][0] = 9\n",
    "iw0[1] = [0.45, 0.6]\n",
    "s0.metadata['Sample']['elements'], iw0"
   ]
  },
  {
   "cell_type": "code",
   "execution_count": null,
   "metadata": {},
   "outputs": [],
   "source": [
    "s0.plot(True, background_windows=bw0, integration_windows=iw0)"
   ]
  },
  {
   "cell_type": "code",
   "execution_count": 26,
   "metadata": {},
   "outputs": [
    {
     "data": {
      "text/plain": [
       "[<BaseSignal, title: X-ray line intensity of Decomposition factors of EDX: Ir_La at 9.17 keV, dimensions: (1|)>,\n",
       " <BaseSignal, title: X-ray line intensity of Decomposition factors of EDX: O_Ka at 0.52 keV, dimensions: (1|)>]"
      ]
     },
     "execution_count": 26,
     "metadata": {},
     "output_type": "execute_result"
    }
   ],
   "source": [
    "s0_I = s0.get_lines_intensity(background_windows=bw0, integration_windows=iw0)\n",
    "s0_I"
   ]
  },
  {
   "cell_type": "code",
   "execution_count": 27,
   "metadata": {},
   "outputs": [
    {
     "data": {
      "text/plain": [
       "(['Ir', 'O'], 504.98956853385215, 37.81033883008036)"
      ]
     },
     "execution_count": 27,
     "metadata": {},
     "output_type": "execute_result"
    }
   ],
   "source": [
    "s0.metadata['Sample']['elements'], s0_I[0].data[0], s0_I[1].data[0]"
   ]
  },
  {
   "cell_type": "code",
   "execution_count": 28,
   "metadata": {},
   "outputs": [
    {
     "name": "stdout",
     "output_type": "stream",
     "text": [
      "[########################################] | 100% Completed | 104.18 ms\n"
     ]
    }
   ],
   "source": [
    "s0_quant = s0.quantification(s0_I, 'CL', factors=k_factors[[1,2]])"
   ]
  },
  {
   "cell_type": "code",
   "execution_count": 29,
   "metadata": {},
   "outputs": [
    {
     "data": {
      "text/plain": [
       "(['Ir', 'O'], 82.2040752813031, 17.79592471869689)"
      ]
     },
     "execution_count": 29,
     "metadata": {},
     "output_type": "execute_result"
    }
   ],
   "source": [
    "s0.metadata['Sample']['elements'], s0_quant[0].data[0], s0_quant[1].data[0]"
   ]
  },
  {
   "cell_type": "markdown",
   "metadata": {},
   "source": [
    "The second component s1 contains Sn_La, O_Ka and F_Ka, but not Ir_La. Together with the absence of F_Ka in s0 (IrO2 phase), this is strong evidence for F only present in the SnO2 phase!"
   ]
  },
  {
   "cell_type": "code",
   "execution_count": null,
   "metadata": {},
   "outputs": [],
   "source": [
    "s1.plot(True)"
   ]
  },
  {
   "cell_type": "code",
   "execution_count": 30,
   "metadata": {},
   "outputs": [
    {
     "data": {
      "text/html": [
       "\n",
       "    <ul style=\"margin: 0px; list-style-position: outside;\">\n",
       "    <li style='margin-left:1em; padding-left: 0.5em'>elements = ['F', 'O', 'Sn']</li></ul>\n",
       "    \n",
       "    <ul style=\"margin: 0px; list-style-position: outside;\">\n",
       "    <li style='margin-left:1em; padding-left: 0.5em'>xray_lines = ['F_Ka', 'O_Ka', 'Sn_La']</li></ul>\n",
       "    "
      ],
      "text/plain": [
       "├── elements = ['F', 'O', 'Sn']\n",
       "└── xray_lines = ['F_Ka', 'O_Ka', 'Sn_La']"
      ]
     },
     "execution_count": 30,
     "metadata": {},
     "output_type": "execute_result"
    }
   ],
   "source": [
    "s1.set_elements(['F','Sn','O'])\n",
    "s1.set_lines(['F_Ka','Sn_La','O_Ka'])\n",
    "s1.metadata['Sample']"
   ]
  },
  {
   "cell_type": "code",
   "execution_count": 31,
   "metadata": {},
   "outputs": [],
   "source": [
    "bw1 = s1.estimate_background_windows(line_width=[4,4])\n",
    "iw1 = s1.estimate_integration_windows(windows_width=3)"
   ]
  },
  {
   "cell_type": "code",
   "execution_count": null,
   "metadata": {
    "scrolled": true
   },
   "outputs": [],
   "source": [
    "s1.plot(True, background_windows=bw1, integration_windows=iw1)"
   ]
  },
  {
   "cell_type": "code",
   "execution_count": 32,
   "metadata": {},
   "outputs": [
    {
     "data": {
      "text/plain": [
       "(['F', 'O', 'Sn'],\n",
       " array([[0.62, 0.64, 0.8 , 0.85],\n",
       "        [0.45, 0.46, 0.62, 0.64],\n",
       "        [2.5 , 2.9 , 5.  , 5.5 ]]))"
      ]
     },
     "execution_count": 32,
     "metadata": {},
     "output_type": "execute_result"
    }
   ],
   "source": [
    "bw1[0,:] = [0.62, 0.64, 0.8, 0.85]\n",
    "bw1[1,:] = [0.45, 0.46, 0.62, 0.64]\n",
    "bw1[2,:] = [2.5, 2.9, 5, 5.5]\n",
    "s1.metadata['Sample']['elements'], bw1"
   ]
  },
  {
   "cell_type": "code",
   "execution_count": 33,
   "metadata": {},
   "outputs": [
    {
     "data": {
      "text/plain": [
       "(['F', 'O', 'Sn'], [[0.65, 0.75], [0.45, 0.6], [3.2883808736048166, 3.57]])"
      ]
     },
     "execution_count": 33,
     "metadata": {},
     "output_type": "execute_result"
    }
   ],
   "source": [
    "iw1[0] = [0.65, 0.75]\n",
    "iw1[1] = [0.45, 0.6]\n",
    "iw1[2][1] = 3.57\n",
    "s1.metadata['Sample']['elements'], iw1"
   ]
  },
  {
   "cell_type": "code",
   "execution_count": 34,
   "metadata": {},
   "outputs": [
    {
     "data": {
      "text/plain": [
       "[<BaseSignal, title: X-ray line intensity of Decomposition factors of EDX: F_Ka at 0.68 keV, dimensions: (1|)>,\n",
       " <BaseSignal, title: X-ray line intensity of Decomposition factors of EDX: O_Ka at 0.52 keV, dimensions: (1|)>,\n",
       " <BaseSignal, title: X-ray line intensity of Decomposition factors of EDX: Sn_La at 3.44 keV, dimensions: (1|)>]"
      ]
     },
     "execution_count": 34,
     "metadata": {},
     "output_type": "execute_result"
    }
   ],
   "source": [
    "s1_I = s1.get_lines_intensity(background_windows=bw1, integration_windows=iw1)\n",
    "s1_I"
   ]
  },
  {
   "cell_type": "code",
   "execution_count": 35,
   "metadata": {},
   "outputs": [
    {
     "data": {
      "text/plain": [
       "(['F', 'O', 'Sn'], 2.3501323389783235, 64.81950826257884, 119.31996493532122)"
      ]
     },
     "execution_count": 35,
     "metadata": {},
     "output_type": "execute_result"
    }
   ],
   "source": [
    "s1.metadata['Sample']['elements'], s1_I[0].data[0], s1_I[1].data[0], s1_I[2].data[0]"
   ]
  },
  {
   "cell_type": "code",
   "execution_count": 36,
   "metadata": {},
   "outputs": [
    {
     "name": "stdout",
     "output_type": "stream",
     "text": [
      "[########################################] | 100% Completed | 103.78 ms\n"
     ]
    }
   ],
   "source": [
    "s1_quant = s1.quantification(s1_I, 'CL', factors=k_factors[[0,2,3]])"
   ]
  },
  {
   "cell_type": "code",
   "execution_count": 37,
   "metadata": {},
   "outputs": [
    {
     "data": {
      "text/plain": [
       "(['F', 'O', 'Sn'], 1.698671939934493, 57.211748373755526, 41.08957968630998)"
      ]
     },
     "execution_count": 37,
     "metadata": {},
     "output_type": "execute_result"
    }
   ],
   "source": [
    "s1.metadata['Sample']['elements'], s1_quant[0].data[0], s1_quant[1].data[0], s1_quant[2].data[0]"
   ]
  },
  {
   "cell_type": "markdown",
   "metadata": {},
   "source": [
    "### 4.2 Reconstruction from component-based quantification to pixel-based\n",
    "Now we reconstruct the quantification results from 2 spectral components (integrated intensity: s0_I, s1_I) back to individual pixels using the weighting matrix. Also see Equation 2 in https://doi.org/10.1093/jmicro/dfx091."
   ]
  },
  {
   "cell_type": "code",
   "execution_count": 38,
   "metadata": {},
   "outputs": [
    {
     "data": {
      "text/plain": [
       "([<BaseSignal, title: X-ray line intensity of Decomposition factors of EDX: Ir_La at 9.17 keV, dimensions: (1|)>,\n",
       "  <BaseSignal, title: X-ray line intensity of Decomposition factors of EDX: O_Ka at 0.52 keV, dimensions: (1|)>],\n",
       " [<BaseSignal, title: X-ray line intensity of Decomposition factors of EDX: F_Ka at 0.68 keV, dimensions: (1|)>,\n",
       "  <BaseSignal, title: X-ray line intensity of Decomposition factors of EDX: O_Ka at 0.52 keV, dimensions: (1|)>,\n",
       "  <BaseSignal, title: X-ray line intensity of Decomposition factors of EDX: Sn_La at 3.44 keV, dimensions: (1|)>])"
      ]
     },
     "execution_count": 38,
     "metadata": {},
     "output_type": "execute_result"
    }
   ],
   "source": [
    "s0_I, s1_I"
   ]
  },
  {
   "cell_type": "code",
   "execution_count": 39,
   "metadata": {},
   "outputs": [
    {
     "data": {
      "text/plain": [
       "(['F', 'Ir', 'O', 'Sn'], array([1.128, 4.82 , 1.16 , 3.358]))"
      ]
     },
     "execution_count": 39,
     "metadata": {},
     "output_type": "execute_result"
    }
   ],
   "source": [
    "s.metadata['Sample']['elements'], k_factors"
   ]
  },
  {
   "cell_type": "markdown",
   "metadata": {},
   "source": [
    "Note that not all the elements were detected in every spectral component: Ir and O in s0; F, O, and Sn in s1. We need to treat the integrated intensity of the missing elements as 0."
   ]
  },
  {
   "cell_type": "code",
   "execution_count": 40,
   "metadata": {},
   "outputs": [
    {
     "data": {
      "text/plain": [
       "array([[0., 0.],\n",
       "       [0., 0.],\n",
       "       [0., 0.],\n",
       "       [0., 0.]])"
      ]
     },
     "execution_count": 40,
     "metadata": {},
     "output_type": "execute_result"
    }
   ],
   "source": [
    "nElement = k_factors.size\n",
    "intensity = np.zeros((nElement,nComp))\n",
    "intensity"
   ]
  },
  {
   "cell_type": "markdown",
   "metadata": {},
   "source": [
    "Ir and O intensity from s0 is included in the first column (column_0) as their corresponding positions from the element list."
   ]
  },
  {
   "cell_type": "code",
   "execution_count": 41,
   "metadata": {},
   "outputs": [
    {
     "data": {
      "text/plain": [
       "array([[  0.        ,   0.        ],\n",
       "       [504.98956853,   0.        ],\n",
       "       [ 37.81033883,   0.        ],\n",
       "       [  0.        ,   0.        ]])"
      ]
     },
     "execution_count": 41,
     "metadata": {},
     "output_type": "execute_result"
    }
   ],
   "source": [
    "intensity[:,0] = [0, s0_I[0].data[0], s0_I[1].data[0], 0]\n",
    "intensity"
   ]
  },
  {
   "cell_type": "markdown",
   "metadata": {},
   "source": [
    "F, O, and Sn intensity from s1 is included in the second column (column_1) as their corresponding positions from the element list."
   ]
  },
  {
   "cell_type": "code",
   "execution_count": 42,
   "metadata": {},
   "outputs": [
    {
     "data": {
      "text/plain": [
       "array([[  0.        ,   2.35013234],\n",
       "       [504.98956853,   0.        ],\n",
       "       [ 37.81033883,  64.81950826],\n",
       "       [  0.        , 119.31996494]])"
      ]
     },
     "execution_count": 42,
     "metadata": {},
     "output_type": "execute_result"
    }
   ],
   "source": [
    "intensity[:,1] = [s1_I[0].data[0], 0, s1_I[1].data[0], s1_I[2].data[0]]\n",
    "intensity"
   ]
  },
  {
   "cell_type": "markdown",
   "metadata": {},
   "source": [
    "The weighting matrix is accessed from the previous NMF decomposition:"
   ]
  },
  {
   "cell_type": "code",
   "execution_count": 43,
   "metadata": {},
   "outputs": [
    {
     "data": {
      "text/plain": [
       "<BaseSignal, title: Decomposition loadings of EDX, dimensions: (2|64, 64)>"
      ]
     },
     "execution_count": 43,
     "metadata": {},
     "output_type": "execute_result"
    }
   ],
   "source": [
    "weight = s.get_decomposition_loadings()\n",
    "weight"
   ]
  },
  {
   "cell_type": "markdown",
   "metadata": {},
   "source": [
    "Here comes the implementation for Equation 2 in https://doi.org/10.1093/jmicro/dfx091."
   ]
  },
  {
   "cell_type": "code",
   "execution_count": 44,
   "metadata": {},
   "outputs": [],
   "source": [
    "signal_I = s.get_lines_intensity()\n",
    "element_I = np.zeros((nElement, weight.data[0].shape[0], weight.data[0].shape[1]))\n",
    "\n",
    "for iElement in range(0,nElement):\n",
    "    element_I[iElement] = np.zeros((weight.data[0].shape))\n",
    "    for iComp in range(0,nComp):\n",
    "        element_I[iElement] = element_I[iElement] + intensity[iElement][iComp]*weight.data[iComp]\n",
    "    signal_I[iElement].data = element_I[iElement]"
   ]
  },
  {
   "cell_type": "code",
   "execution_count": 45,
   "metadata": {},
   "outputs": [
    {
     "data": {
      "text/plain": [
       "[<Axes: title={'center': 'F_Ka at 0.68 keV'}>,\n",
       " <Axes: title={'center': 'Ir_La at 9.17 keV'}>,\n",
       " <Axes: title={'center': 'O_Ka at 0.52 keV'}>,\n",
       " <Axes: title={'center': 'Sn_La at 3.44 keV'}>]"
      ]
     },
     "execution_count": 45,
     "metadata": {},
     "output_type": "execute_result"
    }
   ],
   "source": [
    "hs.plot.plot_images(signal_I, cmap='hot', per_row=2, axes_decor=None, scalebar='all')"
   ]
  },
  {
   "cell_type": "code",
   "execution_count": 46,
   "metadata": {},
   "outputs": [
    {
     "name": "stdout",
     "output_type": "stream",
     "text": [
      "[                                        ] | 0% Completed | 701.20 us"
     ]
    },
    {
     "name": "stderr",
     "output_type": "stream",
     "text": [
      "C:\\Users\\siyuan.zhang\\Desktop\\WPy64-31150\\python-3.11.5.amd64\\Lib\\site-packages\\exspy\\misc\\eds\\utils.py:516: RuntimeWarning: divide by zero encountered in scalar divide\n",
      "  (intensities[ref_index] * absorption_correction[ref_index])\n"
     ]
    },
    {
     "name": "stdout",
     "output_type": "stream",
     "text": [
      "[########################################] | 100% Completed | 103.85 ms\n"
     ]
    },
    {
     "name": "stderr",
     "output_type": "stream",
     "text": [
      "C:\\Users\\siyuan.zhang\\Desktop\\WPy64-31150\\python-3.11.5.amd64\\Lib\\site-packages\\exspy\\misc\\material.py:77: RuntimeWarning: invalid value encountered in divide\n",
      "  atomic_percent[i] /= sum_weight\n"
     ]
    }
   ],
   "source": [
    "signal_quant = s.quantification(signal_I, 'CL', factors=k_factors)"
   ]
  },
  {
   "cell_type": "code",
   "execution_count": 47,
   "metadata": {},
   "outputs": [
    {
     "data": {
      "text/plain": [
       "[<Axes: title={'center': 'F'}>,\n",
       " <Axes: title={'center': 'Ir'}>,\n",
       " <Axes: title={'center': 'O'}>,\n",
       " <Axes: title={'center': 'Sn'}>]"
      ]
     },
     "execution_count": 47,
     "metadata": {},
     "output_type": "execute_result"
    }
   ],
   "source": [
    "hs.plot.plot_images(signal_quant, cmap='hot', per_row=2, axes_decor=None, scalebar='all')"
   ]
  },
  {
   "cell_type": "code",
   "execution_count": null,
   "metadata": {},
   "outputs": [],
   "source": []
  }
 ],
 "metadata": {
  "kernelspec": {
   "display_name": "Python 3 (ipykernel)",
   "language": "python",
   "name": "python3"
  },
  "language_info": {
   "codemirror_mode": {
    "name": "ipython",
    "version": 3
   },
   "file_extension": ".py",
   "mimetype": "text/x-python",
   "name": "python",
   "nbconvert_exporter": "python",
   "pygments_lexer": "ipython3",
   "version": "3.11.5"
  }
 },
 "nbformat": 4,
 "nbformat_minor": 4
}
